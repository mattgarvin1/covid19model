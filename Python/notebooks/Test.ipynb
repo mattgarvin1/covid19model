{
 "cells": [
  {
   "cell_type": "code",
   "execution_count": null,
   "metadata": {},
   "outputs": [],
   "source": [
    "import sys\n",
    "sys.path.append(\"..\")"
   ]
  },
  {
   "cell_type": "code",
   "execution_count": null,
   "metadata": {},
   "outputs": [],
   "source": [
    "%load_ext autoreload\n",
    "%autoreload 2"
   ]
  },
  {
   "cell_type": "code",
   "execution_count": null,
   "metadata": {},
   "outputs": [],
   "source": [
    "from src.dataset import HierarchicalDataset\n",
    "import pandas as pd"
   ]
  },
  {
   "cell_type": "code",
   "execution_count": null,
   "metadata": {},
   "outputs": [],
   "source": [
    "dataset = HierarchicalDataset(cases_dir=\"./ILCaseAndMortalityInputV1.csv\", # okay\n",
    "                              interventions_dir=\"ILInterventions.csv\", # okay\n",
    "                              ifr_dir=\"ILWeightedFatalityInput.csv\", # okay\n",
    "                              serial_interval_dir=\"../../data/EU/serial_interval.csv\",  # okay\n",
    "                             )\n",
    "\n",
    "# next: onward to the STAN interface."
   ]
  },
  {
   "cell_type": "code",
   "execution_count": 80,
   "metadata": {
    "scrolled": true
   },
   "outputs": [
    {
     "name": "stdout",
     "output_type": "stream",
     "text": [
      "First non-zero cases is on day 52, and 30 days before 5 days is day 36\n",
      "84017043 has 81 of data\n",
      "First non-zero cases is on day 72, and 30 days before 5 days is day 57\n",
      "84017049 has 60 of data\n",
      "First non-zero cases is on day 66, and 30 days before 5 days is day 61\n",
      "84017051 has 56 of data\n",
      "First non-zero cases is on day 69, and 30 days before 5 days is day 55\n",
      "84017053 has 62 of data\n",
      "First non-zero cases is on day 62, and 30 days before 5 days is day 86\n",
      "84017063 has 31 of data\n",
      "First non-zero cases is on day 65, and 30 days before 5 days is day 80\n",
      "84017075 has 37 of data\n",
      "First non-zero cases is on day 57, and 30 days before 5 days is day 51\n",
      "84017077 has 66 of data\n",
      "First non-zero cases is on day 73, and 30 days before 5 days is day 60\n",
      "84017079 has 57 of data\n",
      "First non-zero cases is on day 74, and 30 days before 5 days is day 65\n",
      "84017081 has 52 of data\n",
      "First non-zero cases is on day 72, and 30 days before 5 days is day 73\n",
      "84017083 has 44 of data\n",
      "First non-zero cases is on day 48, and 30 days before 5 days is day 37\n",
      "84017089 has 80 of data\n",
      "First non-zero cases is on day 57, and 30 days before 5 days is day 45\n",
      "84017091 has 72 of data\n",
      "First non-zero cases is on day 56, and 30 days before 5 days is day 42\n",
      "84017093 has 75 of data\n",
      "First non-zero cases is on day 49, and 30 days before 5 days is day 41\n",
      "84017097 has 76 of data\n",
      "First non-zero cases is on day 57, and 30 days before 5 days is day 46\n",
      "84017099 has 71 of data\n",
      "First non-zero cases is on day 60, and 30 days before 5 days is day 69\n",
      "84017105 has 48 of data\n",
      "First non-zero cases is on day 80, and 30 days before 5 days is day 77\n",
      "84017109 has 40 of data\n",
      "First non-zero cases is on day 49, and 30 days before 5 days is day 39\n",
      "84017111 has 78 of data\n",
      "First non-zero cases is on day 58, and 30 days before 5 days is day 39\n",
      "84017113 has 78 of data\n",
      "First non-zero cases is on day 66, and 30 days before 5 days is day 54\n",
      "84017115 has 63 of data\n",
      "First non-zero cases is on day 71, and 30 days before 5 days is day 83\n",
      "84017117 has 34 of data\n",
      "First non-zero cases is on day 56, and 30 days before 5 days is day 51\n",
      "84017119 has 66 of data\n",
      "First non-zero cases is on day 61, and 30 days before 5 days is day 53\n",
      "84017133 has 64 of data\n",
      "First non-zero cases is on day 67, and 30 days before 5 days is day 53\n",
      "84017135 has 64 of data\n",
      "First non-zero cases is on day 65, and 30 days before 5 days is day 48\n",
      "84017137 has 69 of data\n",
      "First non-zero cases is on day 70, and 30 days before 5 days is day 63\n",
      "84017141 has 54 of data\n",
      "First non-zero cases is on day 55, and 30 days before 5 days is day 53\n",
      "84017143 has 64 of data\n",
      "First non-zero cases is on day 68, and 30 days before 5 days is day 65\n",
      "84017157 has 52 of data\n",
      "First non-zero cases is on day 60, and 30 days before 5 days is day 51\n",
      "84017161 has 66 of data\n",
      "First non-zero cases is on day 52, and 30 days before 5 days is day 41\n",
      "84017163 has 76 of data\n",
      "First non-zero cases is on day 53, and 30 days before 5 days is day 36\n",
      "84017167 has 81 of data\n",
      "First non-zero cases is on day 76, and 30 days before 5 days is day 77\n",
      "84017173 has 40 of data\n",
      "First non-zero cases is on day 65, and 30 days before 5 days is day 51\n",
      "84017179 has 66 of data\n",
      "First non-zero cases is on day 84, and 30 days before 5 days is day 83\n",
      "84017181 has 34 of data\n",
      "First non-zero cases is on day 71, and 30 days before 5 days is day 77\n",
      "84017183 has 40 of data\n",
      "First non-zero cases is on day 55, and 30 days before 5 days is day 50\n",
      "84017195 has 67 of data\n",
      "First non-zero cases is on day 54, and 30 days before 5 days is day 34\n",
      "84017197 has 83 of data\n",
      "First non-zero cases is on day 57, and 30 days before 5 days is day 86\n",
      "84017199 has 31 of data\n",
      "First non-zero cases is on day 55, and 30 days before 5 days is day 47\n",
      "84017201 has 70 of data\n",
      "First non-zero cases is on day 52, and 30 days before 5 days is day 69\n",
      "84017203 has 48 of data\n"
     ]
    }
   ],
   "source": [
    "stan_data = dataset.get_stan_data(99)"
   ]
  },
  {
   "cell_type": "code",
   "execution_count": null,
   "metadata": {},
   "outputs": [],
   "source": [
    "stan_data"
   ]
  },
  {
   "cell_type": "code",
   "execution_count": null,
   "metadata": {},
   "outputs": [],
   "source": [
    "# remove travel bans and sport\n",
    "stan_data[\"covariate2\"] = 0*stan_data[\"covariate2\"]\n",
    "stan_data[\"covariate4\"] = 0*stan_data[\"covariate4\"]\n",
    "\n",
    "# self-isolating if ill\n",
    "stan_data[\"covariate2\"] = stan_data[\"covariate7\"]"
   ]
  },
  {
   "cell_type": "code",
   "execution_count": null,
   "metadata": {},
   "outputs": [],
   "source": [
    "#create the any intervention covariate\n",
    "stan_data[\"covariate4\"] = 1*(stan_data[\"covariate1\"]+\n",
    "                            stan_data[\"covariate3\"]+\n",
    "                            stan_data[\"covariate4\"]+\n",
    "                            stan_data[\"covariate5\"]+\n",
    "                            stan_data[\"covariate6\"] > 1)"
   ]
  },
  {
   "cell_type": "code",
   "execution_count": null,
   "metadata": {},
   "outputs": [],
   "source": [
    "stan_data[\"covariate7\"]=0*stan_data[\"covariate7\"]"
   ]
  },
  {
   "cell_type": "code",
   "execution_count": null,
   "metadata": {},
   "outputs": [],
   "source": [
    "import pystan\n"
   ]
  },
  {
   "cell_type": "code",
   "execution_count": null,
   "metadata": {},
   "outputs": [],
   "source": [
    "sm = pystan.StanModel(file=\"../../stan-models/base.stan\")"
   ]
  },
  {
   "cell_type": "code",
   "execution_count": null,
   "metadata": {},
   "outputs": [],
   "source": [
    "# original\n",
    "# fit = sm.sampling(data=stan_data,iter=40,warmup=20,chains=2)\n",
    "\n",
    "# sample as small as possible, just for testing\n",
    "fit = sm.sampling(data=stan_data,iter=2,warmup=1,chains=1)\n",
    "print(fit)"
   ]
  },
  {
   "cell_type": "code",
   "execution_count": null,
   "metadata": {},
   "outputs": [],
   "source": [
    "# save it to the file for later use\n",
    "import pickle\n",
    "with open('./example.pkl', 'wb') as f:\n",
    "    pickle.dump(sm, f)"
   ]
  },
  {
   "cell_type": "code",
   "execution_count": null,
   "metadata": {},
   "outputs": [],
   "source": [
    "# import arviz as az\n",
    "fit.extract()"
   ]
  }
 ],
 "metadata": {
  "kernelspec": {
   "display_name": "model",
   "language": "python",
   "name": "model"
  },
  "language_info": {
   "codemirror_mode": {
    "name": "ipython",
    "version": 3
   },
   "file_extension": ".py",
   "mimetype": "text/x-python",
   "name": "python",
   "nbconvert_exporter": "python",
   "pygments_lexer": "ipython3",
   "version": "3.8.2"
  }
 },
 "nbformat": 4,
 "nbformat_minor": 4
}
